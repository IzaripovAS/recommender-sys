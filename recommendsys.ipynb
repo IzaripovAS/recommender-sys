{
 "cells": [
  {
   "cell_type": "code",
   "execution_count": 3,
   "metadata": {},
   "outputs": [],
   "source": [
    "import pandas as pd\n",
    "import numpy as np\n",
    "import matplotlib.pyplot as plt\n",
    "from scipy.optimize import minimize\n",
    "import loadMovieList as lml\n",
    "import normalizeRatings as nr\n",
    "import scipy.io\n",
    "from scipy.io import loadmat\n",
    "from sklearn.svm import OneClassSVM\n",
    "from sklearn.covariance import EllipticEnvelope\n",
    "import cofiCostFunc as ccf\n",
    "\n",
    "\n",
    "%matplotlib inline\n",
    "\n",
    "import seaborn as sns"
   ]
  },
  {
   "cell_type": "code",
   "execution_count": 4,
   "metadata": {},
   "outputs": [
    {
     "data": {
      "text/plain": [
       "dict_keys(['__header__', '__version__', '__globals__', 'Y', 'R'])"
      ]
     },
     "execution_count": 4,
     "metadata": {},
     "output_type": "execute_result"
    }
   ],
   "source": [
    "dat = loadmat('ex8_movies.mat')\n",
    "dat.keys()\n",
    "\n",
    "\n"
   ]
  },
  {
   "cell_type": "code",
   "execution_count": 5,
   "metadata": {},
   "outputs": [
    {
     "name": "stdout",
     "output_type": "stream",
     "text": [
      "(1682, 943)\n",
      "[[5 4 0 ... 5 0 0]\n",
      " [3 0 0 ... 0 0 5]\n",
      " [4 0 0 ... 0 0 0]\n",
      " ...\n",
      " [0 0 0 ... 0 0 0]\n",
      " [0 0 0 ... 0 0 0]\n",
      " [0 0 0 ... 0 0 0]]\n",
      "[[1 1 0 ... 1 0 0]\n",
      " [1 0 0 ... 0 0 1]\n",
      " [1 0 0 ... 0 0 0]\n",
      " ...\n",
      " [0 0 0 ... 0 0 0]\n",
      " [0 0 0 ... 0 0 0]\n",
      " [0 0 0 ... 0 0 0]]\n"
     ]
    }
   ],
   "source": [
    "\n",
    "Y = dat['Y']\n",
    "R = dat['R']\n",
    "print(Y.shape)\n",
    "print(Y)\n",
    "print(R)"
   ]
  },
  {
   "cell_type": "code",
   "execution_count": 6,
   "metadata": {},
   "outputs": [
    {
     "data": {
      "image/png": "[encoded data removed]",
      "text/plain": [
       "<matplotlib.figure.Figure at 0x1a1664cb00>"
      ]
     },
     "metadata": {},
     "output_type": "display_data"
    }
   ],
   "source": [
    "sns.heatmap(Y, yticklabels=False, xticklabels=False);"
   ]
  },
  {
   "cell_type": "code",
   "execution_count": 7,
   "metadata": {},
   "outputs": [
    {
     "data": {
      "text/plain": [
       "dict_keys(['__header__', '__version__', '__globals__', 'X', 'Theta', 'num_users', 'num_movies', 'num_features'])"
      ]
     },
     "execution_count": 7,
     "metadata": {},
     "output_type": "execute_result"
    }
   ],
   "source": [
    "dat2=loadmat('ex8_movieParams.mat')\n",
    "dat2.keys()"
   ]
  },
  {
   "cell_type": "code",
   "execution_count": 8,
   "metadata": {},
   "outputs": [
    {
     "name": "stdout",
     "output_type": "stream",
     "text": [
      "4\n",
      "5\n",
      "3\n"
     ]
    }
   ],
   "source": [
    "num_users=dat2['num_users']=4\n",
    "num_movies=dat2['num_movies']=5\n",
    "num_features=dat2['num_features']=3\n",
    "print(dat2['num_users'])\n",
    "print(dat2['num_movies'])\n",
    "print(dat2['num_features'])\n"
   ]
  },
  {
   "cell_type": "code",
   "execution_count": 9,
   "metadata": {
    "scrolled": true
   },
   "outputs": [
    {
     "name": "stdout",
     "output_type": "stream",
     "text": [
      "[[ 1.0486855  -0.40023196  1.19411945]\n",
      " [ 0.78085123 -0.38562591  0.52119779]\n",
      " [ 0.64150886 -0.54785385 -0.08379638]\n",
      " [ 0.45361782 -0.80021844  0.68048129]\n",
      " [ 0.93753789  0.1060899   0.36195295]]\n",
      "[[ 0.28544362 -1.68426509  0.26293877]\n",
      " [ 0.50501321 -0.45464846  0.31746244]\n",
      " [-0.43191656 -0.47880449  0.84671111]\n",
      " [ 0.72859839 -0.27189391  0.3268436 ]]\n",
      "[[5 4 0 0]\n",
      " [3 0 0 0]\n",
      " [4 0 0 0]\n",
      " [3 0 0 0]\n",
      " [3 0 0 0]]\n",
      "[[1 1 0 0]\n",
      " [1 0 0 0]\n",
      " [1 0 0 0]\n",
      " [1 0 0 0]\n",
      " [1 0 0 0]]\n"
     ]
    }
   ],
   "source": [
    "X=dat2['X'][0:num_movies,0:num_features]\n",
    "Theta = dat2['Theta'][0:num_users, 0:num_features]\n",
    "Y=Y[0:num_movies, 0:num_users]\n",
    "R=R[0:num_movies, 0:num_users]\n",
    "print(X)\n",
    "print(Theta)\n",
    "print(Y)\n",
    "print(R)"
   ]
  },
  {
   "cell_type": "markdown",
   "metadata": {},
   "source": [
    "\n",
    "\n"
   ]
  },
  {
   "cell_type": "code",
   "execution_count": 10,
   "metadata": {},
   "outputs": [],
   "source": [
    "def cofiCostFunc(X, Theta, Y, R, num_users, num_movies,num_features,lambda1):\n",
    "    sum = 0\n",
    "    i=0\n",
    "    j=0\n",
    "    k=0\n",
    "    k1=0\n",
    "    Norm_theta = 0;\n",
    "    Norm_x = 0\n",
    "    X_grad = np.zeros((num_movies,num_features))\n",
    "    Theta_grad = np.zeros((num_users,num_features))\n",
    "    \n",
    "    while j < 4:\n",
    "        while k1 < 3:\n",
    "            Norm_theta += Theta[j,k1]**2\n",
    "            k1 +=1\n",
    "        k1=0\n",
    "        j += 1\n",
    "    k1=0\n",
    "    j=0\n",
    "        \n",
    "    print(' norma 1',Norm_theta)\n",
    "        \n",
    "    while i < 5:\n",
    "        while k < 3:\n",
    "            Norm_x += X[i,k]**2\n",
    "            k+=1\n",
    "        k=0\n",
    "        i+=1\n",
    "    i=0\n",
    "    k=0\n",
    "            \n",
    "    while i < 5:\n",
    "        while j < 4:\n",
    "            if(R[i,j]==1):\n",
    "                k = 0\n",
    "                A = 0\n",
    "                while k < num_features:\n",
    "                    A += Theta[j,k]*X[i,k]\n",
    "                    k += 1\n",
    "                sum += ( A - Y[i,j])**2\n",
    "                X_grad[i:] += (A - Y[i,j])*Theta[j:j+1]\n",
    "                Theta_grad[j:]+=(A - Y[i,j])*X[i:i+1]\n",
    "            j+=1\n",
    "        j=0\n",
    "        i+=1\n",
    "    i=0\n",
    "    j=0\n",
    "    k=0\n",
    "                \n",
    "    while i < 5:\n",
    "        X_grad[i:] += lambda1*X[i:i+1]\n",
    "        i+=1\n",
    "        \n",
    "    while j <4:\n",
    "        Theta_grad[j:] += lambda1*Theta[j:j+1]\n",
    "        j+=1     \n",
    "    return ((sum/2 + lambda1*Norm_theta/2 + lambda1*Norm_x/2),X_grad,Theta_grad)\n",
    "    "
   ]
  },
  {
   "cell_type": "code",
   "execution_count": 11,
   "metadata": {},
   "outputs": [
    {
     "name": "stdout",
     "output_type": "stream",
     "text": [
      " norma 1 5.394223699733425\n",
      "Cost at loaded parameters: 22.22460372568567\n",
      " norma 1 5.394223699733425\n"
     ]
    }
   ],
   "source": [
    "(J, X_grad, Theta_grad)=cofiCostFunc(X, Theta, Y, R, num_users, num_movies,num_features, 0)\n",
    "print('Cost at loaded parameters:', J)\n",
    "(J, X_grad, Theta_grad)=cofiCostFunc(X, Theta, Y, R, num_users, num_movies,num_features, 1.5)"
   ]
  },
  {
   "cell_type": "code",
   "execution_count": 12,
   "metadata": {},
   "outputs": [
    {
     "name": "stdout",
     "output_type": "stream",
     "text": [
      "Cost at loaded parameters: 31.344056244274217\n"
     ]
    }
   ],
   "source": [
    "print('Cost at loaded parameters:', J)"
   ]
  },
  {
   "cell_type": "code",
   "execution_count": 13,
   "metadata": {},
   "outputs": [
    {
     "name": "stdout",
     "output_type": "stream",
     "text": [
      "\n",
      "[[-0.95596339  6.97535514 -0.10861109]\n",
      " [-0.35288251  9.74956659  0.14978714]\n",
      " [-0.22302636 13.83941878 -0.74268621]\n",
      " [ 0.0738176  14.90242811 -0.07530476]\n",
      " [ 0.67634437 19.80428138 -0.27278404]]\n",
      "\n",
      "[[-10.13985478   2.10136256  -6.76563628]\n",
      " [-12.43332502   2.58380354  -9.7635505 ]\n",
      " [-13.08119987   1.86559681  -8.49348384]\n",
      " [-11.98830229   1.45775595  -8.00321844]]\n"
     ]
    }
   ],
   "source": [
    "print()\n",
    "print(X_grad )\n",
    "print()\n",
    "print(Theta_grad)\n",
    "\n"
   ]
  },
  {
   "cell_type": "code",
   "execution_count": 52,
   "metadata": {},
   "outputs": [],
   "source": [
    "dat = loadmat('ex8_movies.mat')\n",
    "Y = dat['Y']\n",
    "R = dat['R']"
   ]
  },
  {
   "cell_type": "code",
   "execution_count": 53,
   "metadata": {},
   "outputs": [],
   "source": [
    "my_ratings = np.zeros((1682, 1))"
   ]
  },
  {
   "cell_type": "code",
   "execution_count": 54,
   "metadata": {},
   "outputs": [],
   "source": [
    "my_ratings[63] = 5\n",
    "my_ratings[317] = 4\n",
    "my_ratings[49]= 2\n",
    "my_ratings[271] = 1\n",
    "my_ratings[2]= 5\n",
    "my_ratings[22]= 2\n",
    "my_ratings[222] = 3\n",
    "my_ratings[3] = 4\n",
    "my_ratings[33] = 5\n",
    "my_ratings[333] = 3\n",
    "my_ratings[555]= 2\n",
    "\n",
    "\n"
   ]
  },
  {
   "cell_type": "code",
   "execution_count": 55,
   "metadata": {},
   "outputs": [],
   "source": [
    "Y = np.column_stack((my_ratings, Y))\n",
    "R = np.column_stack(((my_ratings != 0).astype(int), R))"
   ]
  },
  {
   "cell_type": "code",
   "execution_count": 56,
   "metadata": {},
   "outputs": [],
   "source": [
    "[Ynorm, Ymean] = nr.normalizeRatings(Y, R)"
   ]
  },
  {
   "cell_type": "code",
   "execution_count": 57,
   "metadata": {},
   "outputs": [],
   "source": [
    "num_users = Y.shape[1]\n",
    "num_movies = Y.shape[0]\n",
    "num_features = 10"
   ]
  },
  {
   "cell_type": "code",
   "execution_count": 58,
   "metadata": {},
   "outputs": [],
   "source": [
    "X = np.random.randn(num_movies, num_features)\n",
    "Theta = np.random.randn(num_users, num_features)"
   ]
  },
  {
   "cell_type": "code",
   "execution_count": 59,
   "metadata": {},
   "outputs": [],
   "source": [
    "initial_parameters = np.concatenate((X.reshape(X.size, order='F'), Theta.reshape(Theta.size, order='F')))"
   ]
  },
  {
   "cell_type": "code",
   "execution_count": 60,
   "metadata": {},
   "outputs": [],
   "source": [
    "maxiter = 100\n",
    "options = {'disp': True, 'maxiter':maxiter}\n",
    "lambda_var=10"
   ]
  },
  {
   "cell_type": "code",
   "execution_count": 61,
   "metadata": {},
   "outputs": [],
   "source": [
    "def costFunc(initial_parameters):\n",
    "    return ccf.cofiCostFunc(initial_parameters, Y, R, num_users, num_movies, num_features, lambda_var)"
   ]
  },
  {
   "cell_type": "code",
   "execution_count": 62,
   "metadata": {},
   "outputs": [
    {
     "name": "stdout",
     "output_type": "stream",
     "text": [
      "(1327356.6115632476, array([-759.65734703, -113.18086171, -165.64962402, ...,   -1.91191779,\n",
      "       -103.35222434, -194.53174034]))\n"
     ]
    }
   ],
   "source": [
    "print(costFunc(initial_parameters))"
   ]
  },
  {
   "cell_type": "code",
   "execution_count": 63,
   "metadata": {},
   "outputs": [],
   "source": [
    "results = minimize(costFunc, x0=initial_parameters, options=options, method=\"L-BFGS-B\", jac=True)\n",
    "theta = results[\"x\"]"
   ]
  },
  {
   "cell_type": "code",
   "execution_count": 64,
   "metadata": {},
   "outputs": [],
   "source": [
    "X = np.reshape(theta[:num_movies*num_features], (num_movies, num_features), order='F')\n",
    "Theta = np.reshape(theta[num_movies*num_features:], (num_users, num_features), order='F')"
   ]
  },
  {
   "cell_type": "code",
   "execution_count": 65,
   "metadata": {},
   "outputs": [],
   "source": [
    "p = np.dot(X, Theta.T)\n",
    "my_predictions = p[:,0] + Ymean.flatten()"
   ]
  },
  {
   "cell_type": "code",
   "execution_count": 66,
   "metadata": {},
   "outputs": [],
   "source": [
    "ix = my_predictions.argsort()[::-1]"
   ]
  },
  {
   "cell_type": "code",
   "execution_count": 67,
   "metadata": {},
   "outputs": [
    {
     "ename": "UnicodeDecodeError",
     "evalue": "'utf-8' codec can't decode byte 0xe9 in position 7247: invalid continuation byte",
     "output_type": "error",
     "traceback": [
      "\u001b[0;31m---------------------------------------------------------------------------\u001b[0m",
      "\u001b[0;31mUnicodeDecodeError\u001b[0m                        Traceback (most recent call last)",
      "\u001b[0;32m<ipython-input-67-091686042519>\u001b[0m in \u001b[0;36m<module>\u001b[0;34m()\u001b[0m\n\u001b[0;32m----> 1\u001b[0;31m \u001b[0mmovieList\u001b[0m \u001b[0;34m=\u001b[0m \u001b[0mlml\u001b[0m\u001b[0;34m.\u001b[0m\u001b[0mloadMovieList\u001b[0m\u001b[0;34m(\u001b[0m\u001b[0;34m)\u001b[0m\u001b[0;34m\u001b[0m\u001b[0m\n\u001b[0m",
      "\u001b[0;32m~/Documents/recommendsys/ex8/loadMovieList.py\u001b[0m in \u001b[0;36mloadMovieList\u001b[0;34m()\u001b[0m\n\u001b[1;32m     13\u001b[0m \u001b[0;34m\u001b[0m\u001b[0m\n\u001b[1;32m     14\u001b[0m         \u001b[0mmovieList\u001b[0m \u001b[0;34m=\u001b[0m \u001b[0;34m[\u001b[0m\u001b[0;32mNone\u001b[0m\u001b[0;34m]\u001b[0m\u001b[0;34m*\u001b[0m\u001b[0mn\u001b[0m\u001b[0;34m\u001b[0m\u001b[0m\n\u001b[0;32m---> 15\u001b[0;31m         \u001b[0;32mfor\u001b[0m \u001b[0mi\u001b[0m\u001b[0;34m,\u001b[0m \u001b[0mline\u001b[0m \u001b[0;32min\u001b[0m \u001b[0menumerate\u001b[0m\u001b[0;34m(\u001b[0m\u001b[0mmovie_ids_file\u001b[0m\u001b[0;34m.\u001b[0m\u001b[0mreadlines\u001b[0m\u001b[0;34m(\u001b[0m\u001b[0;34m)\u001b[0m\u001b[0;34m)\u001b[0m\u001b[0;34m:\u001b[0m\u001b[0;34m\u001b[0m\u001b[0m\n\u001b[0m\u001b[1;32m     16\u001b[0m             \u001b[0mmovieName\u001b[0m \u001b[0;34m=\u001b[0m \u001b[0mline\u001b[0m\u001b[0;34m.\u001b[0m\u001b[0msplit\u001b[0m\u001b[0;34m(\u001b[0m\u001b[0;34m)\u001b[0m\u001b[0;34m[\u001b[0m\u001b[0;36m1\u001b[0m\u001b[0;34m:\u001b[0m\u001b[0;34m]\u001b[0m\u001b[0;34m\u001b[0m\u001b[0m\n\u001b[1;32m     17\u001b[0m             \u001b[0mmovieList\u001b[0m\u001b[0;34m[\u001b[0m\u001b[0mi\u001b[0m\u001b[0;34m]\u001b[0m \u001b[0;34m=\u001b[0m \u001b[0;34m\" \"\u001b[0m\u001b[0;34m.\u001b[0m\u001b[0mjoin\u001b[0m\u001b[0;34m(\u001b[0m\u001b[0mmovieName\u001b[0m\u001b[0;34m)\u001b[0m\u001b[0;34m\u001b[0m\u001b[0m\n",
      "\u001b[0;32m~/anaconda3/lib/python3.6/codecs.py\u001b[0m in \u001b[0;36mdecode\u001b[0;34m(self, input, final)\u001b[0m\n\u001b[1;32m    319\u001b[0m         \u001b[0;31m# decode input (taking the buffer into account)\u001b[0m\u001b[0;34m\u001b[0m\u001b[0;34m\u001b[0m\u001b[0m\n\u001b[1;32m    320\u001b[0m         \u001b[0mdata\u001b[0m \u001b[0;34m=\u001b[0m \u001b[0mself\u001b[0m\u001b[0;34m.\u001b[0m\u001b[0mbuffer\u001b[0m \u001b[0;34m+\u001b[0m \u001b[0minput\u001b[0m\u001b[0;34m\u001b[0m\u001b[0m\n\u001b[0;32m--> 321\u001b[0;31m         \u001b[0;34m(\u001b[0m\u001b[0mresult\u001b[0m\u001b[0;34m,\u001b[0m \u001b[0mconsumed\u001b[0m\u001b[0;34m)\u001b[0m \u001b[0;34m=\u001b[0m \u001b[0mself\u001b[0m\u001b[0;34m.\u001b[0m\u001b[0m_buffer_decode\u001b[0m\u001b[0;34m(\u001b[0m\u001b[0mdata\u001b[0m\u001b[0;34m,\u001b[0m \u001b[0mself\u001b[0m\u001b[0;34m.\u001b[0m\u001b[0merrors\u001b[0m\u001b[0;34m,\u001b[0m \u001b[0mfinal\u001b[0m\u001b[0;34m)\u001b[0m\u001b[0;34m\u001b[0m\u001b[0m\n\u001b[0m\u001b[1;32m    322\u001b[0m         \u001b[0;31m# keep undecoded input until the next call\u001b[0m\u001b[0;34m\u001b[0m\u001b[0;34m\u001b[0m\u001b[0m\n\u001b[1;32m    323\u001b[0m         \u001b[0mself\u001b[0m\u001b[0;34m.\u001b[0m\u001b[0mbuffer\u001b[0m \u001b[0;34m=\u001b[0m \u001b[0mdata\u001b[0m\u001b[0;34m[\u001b[0m\u001b[0mconsumed\u001b[0m\u001b[0;34m:\u001b[0m\u001b[0;34m]\u001b[0m\u001b[0;34m\u001b[0m\u001b[0m\n",
      "\u001b[0;31mUnicodeDecodeError\u001b[0m: 'utf-8' codec can't decode byte 0xe9 in position 7247: invalid continuation byte"
     ]
    }
   ],
   "source": [
    "movieList = lml.loadMovieList()"
   ]
  },
  {
   "cell_type": "code",
   "execution_count": 68,
   "metadata": {},
   "outputs": [
    {
     "name": "stdout",
     "output_type": "stream",
     "text": [
      "\n",
      "\n",
      "Top recommendations for you:\n",
      "\n",
      "Predicting rating 7.50526 for movie 63\n",
      "Predicting rating 7.27432 for movie 317\n",
      "Predicting rating 7.25183 for movie 11\n",
      "Predicting rating 7.11781 for movie 97\n",
      "Predicting rating 7.09565 for movie 482\n",
      "Predicting rating 7.08970 for movie 271\n",
      "Predicting rating 7.08503 for movie 168\n",
      "Predicting rating 7.07618 for movie 602\n",
      "Predicting rating 7.05566 for movie 113\n",
      "Predicting rating 7.04681 for movie 407\n"
     ]
    }
   ],
   "source": [
    "print('\\n\\nTop recommendations for you:\\n')\n",
    "for i in range(10):\n",
    "    j = ix[i]\n",
    "    print('Predicting rating {:.5f} for movie {:d}'.format(my_predictions[j], j))\n"
   ]
  },
  {
   "cell_type": "code",
   "execution_count": 69,
   "metadata": {},
   "outputs": [
    {
     "name": "stdout",
     "output_type": "stream",
     "text": [
      "\n",
      "\n",
      "Original ratings provided:\n",
      "Rated 5 for 2\n",
      "Rated 4 for 3\n",
      "Rated 2 for 22\n",
      "Rated 5 for 33\n",
      "Rated 2 for 49\n",
      "Rated 5 for 63\n",
      "Rated 3 for 222\n",
      "Rated 1 for 271\n",
      "Rated 4 for 317\n",
      "Rated 3 for 333\n",
      "Rated 2 for 555\n"
     ]
    }
   ],
   "source": [
    "print('\\n\\nOriginal ratings provided:')\n",
    "for i in range(len(my_ratings)):\n",
    "    if my_ratings[i] > 0:\n",
    "        print('Rated {:d} for {:d}'.format(int(my_ratings[i]), i))"
   ]
  },
  {
   "cell_type": "code",
   "execution_count": null,
   "metadata": {},
   "outputs": [],
   "source": []
  },
  {
   "cell_type": "code",
   "execution_count": null,
   "metadata": {},
   "outputs": [],
   "source": []
  }
 ],
 "metadata": {
  "kernelspec": {
   "display_name": "Python 3",
   "language": "python",
   "name": "python3"
  },
  "language_info": {
   "codemirror_mode": {
    "name": "ipython",
    "version": 3
   },
   "file_extension": ".py",
   "mimetype": "text/x-python",
   "name": "python",
   "nbconvert_exporter": "python",
   "pygments_lexer": "ipython3",
   "version": "3.6.4"
  }
 },
 "nbformat": 4,
 "nbformat_minor": 2
}
